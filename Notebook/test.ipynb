{
 "cells": [
  {
   "cell_type": "code",
   "execution_count": null,
   "metadata": {},
   "outputs": [],
   "source": [
    "import pandas as pd\n",
    "import numpy as np\n",
    "\n",
    "# Sample DataFrame\n",
    "\n",
    "df = pd.read_csv(\"../data/01. Customer_temp_20240207_1043.csv\")"
   ]
  },
  {
   "cell_type": "code",
   "execution_count": null,
   "metadata": {},
   "outputs": [],
   "source": [
    "df.head()"
   ]
  },
  {
   "cell_type": "code",
   "execution_count": null,
   "metadata": {},
   "outputs": [],
   "source": [
    "\n",
    "# Define regex patterns for validation\n",
    "email_regex_pattern = r'^[a-zA-Z0-9._%+-]+@[a-zA-Z0-9.-]+\\.[a-zA-Z]{2,}$'\n",
    "# name_regex_pattern = r'^[a-zA-Z\\s]+$'\n",
    "mobile_regex_pattern = r'(\\s)*((\\d+-){0,1}(\\d+/){0,1}(\\d+))(\\s)*(\\b)'\n",
    "EID_pattern = r'\\d\\d\\d-\\d\\d\\d\\d-\\d\\d\\d\\d\\d\\d\\d-\\d'\n",
    "nationality_pattern = r'[A-Za-z][A-Za-z]'\n",
    "passport_pattern = r'[A-Za-z0-9]+'\n",
    "\n",
    "# Apply regex validation to respective columns\n",
    "df['Valid_Email'] = df['Email ID'].str.match(email_regex_pattern)\n",
    "# df['Valid_Name'] = df['Name'].str.match(name_regex_pattern)\n",
    "df['Valid_Mobile'] = df['Mobile No.'].str.match(mobile_regex_pattern)\n",
    "df['Valid_EID'] = df['EID'].str.match(EID_pattern)\n",
    "df['Valid_NAT'] = df['Nationality'].str.match(nationality_pattern)\n",
    "df['Valid_Pass'] = df['Passport No'].str.match(passport_pattern)\n",
    "\n",
    "# Calculate percentage of valid records for each validator\n",
    "total_records = len(df)\n",
    "percentage_valid_email = (df['Valid_Email'].sum() / total_records) * 100\n",
    "percentage_valid_EID = (df['Valid_EID'].sum() / total_records) * 100\n",
    "percentage_valid_mobile = (df['Valid_Mobile'].sum() / total_records) * 100\n",
    "percentage_valid_nationality = (df['Valid_NAT'].sum() / total_records) * 100\n",
    "percentage_valid_passport = (df['Valid_Pass'].sum() / total_records) * 100\n",
    "\n",
    "# Create a new DataFrame to hold the percentage of valid records for each validator\n",
    "percentage_df = pd.DataFrame({\n",
    "    'Validator': ['Email', 'EID', 'Mobile', 'Nationality', 'Passport No'],\n",
    "    'Validation percentage': [percentage_valid_email, percentage_valid_EID, percentage_valid_mobile\n",
    "                              , percentage_valid_nationality, percentage_valid_passport]\n",
    "})\n"
   ]
  },
  {
   "cell_type": "code",
   "execution_count": null,
   "metadata": {},
   "outputs": [],
   "source": [
    "# Calculate null percentage for each column\n",
    "null_percentage = (df.isnull().sum() / len(df)) * 100\n",
    "\n",
    "# Create a DataFrame to hold the null percentage for each column\n",
    "null_percentage_df = pd.DataFrame({'Column': null_percentage.index, 'Null Percentage': null_percentage.values})\n",
    "\n",
    "# Merge null percentage DataFrame with percentage_df\n",
    "merged_df = pd.merge(percentage_df, null_percentage_df, left_on='Validator', right_on='Column', how='left')\n",
    "\n",
    "# Round 2\n",
    "merged_df['Null Percentage'] = merged_df['Null Percentage'].round(0)\n",
    "merged_df['Validation percentage'] = merged_df['Validation percentage'].round(0)\n",
    "\n",
    "merged_df = merged_df.replace({np.NaN:0})\n",
    "\n",
    "# Drop the 'Column' column, which was added from the null_percentage_df\n",
    "merged_df.drop(columns=['Column'], inplace=True)"
   ]
  },
  {
   "cell_type": "code",
   "execution_count": null,
   "metadata": {},
   "outputs": [],
   "source": [
    "merged_df.head()"
   ]
  },
  {
   "cell_type": "code",
   "execution_count": null,
   "metadata": {},
   "outputs": [],
   "source": [
    "# Apply regex validation to respective columns\n",
    "filter_df = df.copy()\n",
    "filter_df['Valid_Email'] = filter_df['Email ID'].str.match(email_regex_pattern)\n",
    "filter_df['Valid_Mobile'] = filter_df['Mobile No.'].str.match(mobile_regex_pattern)\n",
    "filter_df['Valid_EID'] = filter_df['EID'].str.match(EID_pattern)\n",
    "filter_df['Valid_Nationality'] = filter_df['Nationality'].str.match(nationality_pattern)\n",
    "filter_df['Valid_Pass'] = filter_df['Passport No'].str.match(nationality_pattern)\n",
    "\n",
    "# Create a boolean mask for non-valid records\n",
    "non_valid_mask = ~(filter_df['Valid_Email'] & filter_df['Valid_Mobile'] & filter_df['Valid_EID'] & filter_df['Valid_Nationality']\n",
    "                   & filter_df['Valid_Pass'])\n",
    "\n",
    "# Filter the DataFrame to keep only non-valid records\n",
    "non_valid_records_df = filter_df[non_valid_mask]\n",
    "non_valid_records_df = non_valid_records_df[['non_valid_records_df','Email ID','Mobile No.','EID','Nationality','Passport No']]"
   ]
  },
  {
   "cell_type": "code",
   "execution_count": null,
   "metadata": {},
   "outputs": [],
   "source": [
    "non_valid_records_df.head()"
   ]
  },
  {
   "cell_type": "code",
   "execution_count": null,
   "metadata": {},
   "outputs": [],
   "source": []
  }
 ],
 "metadata": {
  "kernelspec": {
   "display_name": "Python 3",
   "language": "python",
   "name": "python3"
  },
  "language_info": {
   "codemirror_mode": {
    "name": "ipython",
    "version": 3
   },
   "file_extension": ".py",
   "mimetype": "text/x-python",
   "name": "python",
   "nbconvert_exporter": "python",
   "pygments_lexer": "ipython3",
   "version": "3.10.11"
  }
 },
 "nbformat": 4,
 "nbformat_minor": 2
}
